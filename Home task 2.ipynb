{
 "cells": [
  {
   "cell_type": "code",
   "execution_count": null,
   "metadata": {},
   "outputs": [],
   "source": [
    "# Задание 1\n",
    "#Дан список с визитами по городам и странам. Напишите код, который возвращает отфильтрованный список geo_logs, содержащий только визиты из России. Считайте, что список geo_logs легко помещается в оперативной памяти.\n",
    "#geo_logs = [\n",
    "    #{'visit1': ['Москва', 'Россия']},\n",
    "    #{'visit2': ['Дели', 'Индия']},\n",
    "    #{'visit3': ['Владимир', 'Россия']},\n",
    "    #{'visit4': ['Лиссабон', 'Португалия']},\n",
    "    #{'visit5': ['Париж', 'Франция']},\n",
    "    #{'visit6': ['Лиссабон', 'Португалия']},\n",
    "    #{'visit7': ['Тула', 'Россия']},\n",
    "    #{'visit8': ['Тула', 'Россия']},\n",
    "    #{'visit9': ['Курск', 'Россия']},\n",
    "    #{'visit10': ['Архангельск', 'Россия']},\n",
    "#]\n"
   ]
  },
  {
   "cell_type": "code",
   "execution_count": 111,
   "metadata": {},
   "outputs": [
    {
     "name": "stdout",
     "output_type": "stream",
     "text": [
      "{'visit1': ['Москва', 'Россия']}\n",
      "{'visit3': ['Владимир', 'Россия']}\n",
      "{'visit7': ['Тула', 'Россия']}\n",
      "{'visit8': ['Тула', 'Россия']}\n",
      "{'visit9': ['Курск', 'Россия']}\n",
      "{'visit10': ['Архангельск', 'Россия']}\n"
     ]
    }
   ],
   "source": [
    "# Код Задания 1\n",
    "geo_logs = [\n",
    "    {'visit1': ['Москва', 'Россия']},\n",
    "    {'visit2': ['Дели', 'Индия']},\n",
    "    {'visit3': ['Владимир', 'Россия']},\n",
    "    {'visit4': ['Лиссабон', 'Португалия']},\n",
    "    {'visit5': ['Париж', 'Франция']},\n",
    "    {'visit6': ['Лиссабон', 'Португалия']},\n",
    "    {'visit7': ['Тула', 'Россия']},\n",
    "    {'visit8': ['Тула', 'Россия']},\n",
    "    {'visit9': ['Курск', 'Россия']},\n",
    "    {'visit10': ['Архангельск', 'Россия']},\n",
    "] \n",
    "\n",
    "def filtration(spisok, country):\n",
    "    sort_list = []\n",
    "    for x in spisok:\n",
    "        if list(x.values())[0][1] == country:\n",
    "            sort_list.append(x)\n",
    "    return sort_list\n",
    "\n",
    "filter_list = filtration(geo_logs, 'Россия')\n",
    "for i in filter_list:\n",
    "    print(i)"
   ]
  },
  {
   "cell_type": "code",
   "execution_count": null,
   "metadata": {},
   "outputs": [],
   "source": [
    "# Задание 2\n",
    "#Выведите на экран все уникальные гео-ID из значений словаря ids. Т. е. список вида [213, 15, 54, 119, 98, 35]\n",
    "#ids = {'user1': [213, 213, 213, 15, 213], 'user2': [54, 54, 119, 119, 119], 'user3': [213, 98, 98, 35]}\n"
   ]
  },
  {
   "cell_type": "code",
   "execution_count": 22,
   "metadata": {
    "scrolled": true
   },
   "outputs": [
    {
     "name": "stdout",
     "output_type": "stream",
     "text": [
      "[98, 35, 15, 213, 54, 119]\n"
     ]
    }
   ],
   "source": [
    "# Код Задания 2\n",
    "\n",
    "ids = {'user1': [213, 213, 213, 15, 213], 'user2': [54, 54, 119, 119, 119], 'user3': [213, 98, 98, 35]}\n",
    "import itertools\n",
    "print(list(set(itertools.chain(*ids.values()))))"
   ]
  },
  {
   "cell_type": "code",
   "execution_count": null,
   "metadata": {},
   "outputs": [],
   "source": [
    "# Задание 3\n",
    "# Список поисковых запросов. Получить распределение количества слов в них. Т. е. поисковых запросов из одного слова 5%, из двух - 7%, из трех - 3% итд.\n",
    "#queries = [\n",
    "    #'смотреть сериалы онлайн',\n",
    "    #'новости спорта',\n",
    "    #'афиша кино',\n",
    "    #'курс доллара',\n",
    "    #'сериалы этим летом',\n",
    "    #'курс по питону',\n",
    "    #'сериалы про спорт',\n",
    "#]\n"
   ]
  },
  {
   "cell_type": "code",
   "execution_count": 21,
   "metadata": {},
   "outputs": [
    {
     "name": "stdout",
     "output_type": "stream",
     "text": [
      "3 words: 57.142857%\n",
      "2 words: 42.857143%\n"
     ]
    }
   ],
   "source": [
    "# Код Задания 3\n",
    "\n",
    "queries = [\n",
    "    'смотреть сериалы онлайн',\n",
    "    'новости спорта',\n",
    "    'афиша кино',\n",
    "    'курс доллара',\n",
    "    'сериалы этим летом',\n",
    "    'курс по питону',\n",
    "    'сериалы про спорт',\n",
    "]\n",
    "from collections import Counter\n",
    "counts = Counter([len(q.split()) for q in queries])\n",
    "\n",
    "total = len(queries)\n",
    "for word_num, cnt in counts.items():\n",
    "    print('%d words: %f%%' % (word_num, cnt * 100.0 / total))\n"
   ]
  },
  {
   "cell_type": "code",
   "execution_count": null,
   "metadata": {},
   "outputs": [],
   "source": [
    "# Задание 4\n",
    "#Дана статистика рекламных каналов по объемам продаж. Напишите скрипт, который возвращает название канала с максимальным объемом.\n",
    "#Т. е. в данном примере скрипт должен возвращать 'yandex'.\n",
    "#stats = {'facebook': 55, 'yandex': 120, 'vk': 115, 'google': 99, 'email': 42, 'ok': 98}\n"
   ]
  },
  {
   "cell_type": "code",
   "execution_count": 26,
   "metadata": {
    "scrolled": true
   },
   "outputs": [
    {
     "data": {
      "text/plain": [
       "['yandex', 'vk', 'ok', 'google', 'facebook', 'email']"
      ]
     },
     "execution_count": 26,
     "metadata": {},
     "output_type": "execute_result"
    }
   ],
   "source": [
    "# Код Задания 4\n",
    "\n",
    "stats = {'facebook': 55, 'yandex': 120, 'vk': 115, 'google': 99, 'email': 42, 'ok': 98}\n",
    "#sorted(stats, key=lambda x: x, reverse=Trueb)\n",
    "sorted(stats.keys(), key = lambda x: x[0], reverse=True)"
   ]
  },
  {
   "cell_type": "code",
   "execution_count": 4,
   "metadata": {},
   "outputs": [
    {
     "data": {
      "text/plain": [
       "['yandex', 'vk', 'ok', 'google', 'facebook', 'email']"
      ]
     },
     "execution_count": 4,
     "metadata": {},
     "output_type": "execute_result"
    }
   ],
   "source": [
    "# Код Задания 4 (Вариант 2)\n",
    "sorted(stats, reverse=True)"
   ]
  },
  {
   "cell_type": "code",
   "execution_count": null,
   "metadata": {},
   "outputs": [],
   "source": [
    "# Задание 5\n",
    "#Дан поток логов по количеству просмотренных страниц для каждого пользователя. Список отсортирован по ID пользователя. Вам необходимо написать алгоритм, который считает среднее значение просмотров на пользователя. Т. е. надо посчитать отношение суммы всех просмотров к количеству уникальных пользователей. Учтите, что весь список stream не помещается в оперативную память, т. е. его нужно обрабатывать поэлементно в цикле.\n",
    "#stream = [\n",
    "    #'2018-01-01,user1,3',\n",
    "    #'2018-01-07,user1,4',\n",
    "    #'2018-03-29,user1,1',\n",
    "    #'2018-04-04,user1,13',\n",
    "    #'2018-01-05,user2,7',\n",
    "    #'2018-06-14,user3,4',\n",
    "    #'2018-07-02,user3,10',\n",
    "    #'2018-03-21,user4,19',\n",
    "    #'2018-03-22,user4,4',\n",
    "    #'2018-04-22,user4,8',\n",
    "    #'2018-05-03,user4,9',\n",
    "    #'2018-05-11,user4,11',\n",
    "#]\n"
   ]
  },
  {
   "cell_type": "code",
   "execution_count": 29,
   "metadata": {},
   "outputs": [],
   "source": [
    "# Код Задания 5\n",
    "\n",
    "Not Done"
   ]
  },
  {
   "cell_type": "code",
   "execution_count": null,
   "metadata": {},
   "outputs": [],
   "source": [
    "# Задание 6\n",
    "#Дана статистика рекламных кампаний по дням. Напишите алгоритм, который по паре дата-кампания ищет значение численного столбца. Т. е. для даты '2018-01-01' и 'google' нужно получить число 25. Считайте, что все комбинации дата-кампания уникальны, а список stats легко помещается в оперативной памяти.\n",
    "#stats = [\n",
    "    #['2018-01-01', 'google', 25],\n",
    "    #['2018-01-01', 'yandex', 65],\n",
    "    #['2018-01-01', 'market', 89],\n",
    "    #['2018-01-02', 'google', 574],\n",
    "    #['2018-01-02', 'yandex', 249],\n",
    "    #['2018-01-02', 'market', 994],\n",
    "    #['2018-01-03', 'google', 1843],\n",
    "    #['2018-01-03', 'yandex', 1327],\n",
    "    #['2018-01-03', 'market', 1764],\n",
    "#]\n"
   ]
  },
  {
   "cell_type": "code",
   "execution_count": 30,
   "metadata": {},
   "outputs": [
    {
     "name": "stdout",
     "output_type": "stream",
     "text": [
      "25\n"
     ]
    }
   ],
   "source": [
    "# Код Задания 6\n",
    "\n",
    "stats = [\n",
    "    ['2018-01-01', 'google', 25],\n",
    "    ['2018-01-01', 'yandex', 65],\n",
    "    ['2018-01-01', 'market', 89],\n",
    "    ['2018-01-02', 'google', 574],\n",
    "    ['2018-01-02', 'yandex', 249],\n",
    "    ['2018-01-02', 'market', 994],\n",
    "    ['2018-01-03', 'google', 1843],\n",
    "    ['2018-01-03', 'yandex', 1327],\n",
    "    ['2018-01-03', 'market', 1764],\n",
    "]\n",
    "date = '2018-01-01'\n",
    "campaign = 'google'\n",
    "\n",
    "for line in stats:\n",
    "        if line[0] == date and line[1] == campaign:\n",
    "            print(line[2])"
   ]
  },
  {
   "cell_type": "code",
   "execution_count": null,
   "metadata": {},
   "outputs": [],
   "source": [
    "#Бонусный вариант (делать его не обязательно)\n",
    "#Рассмотрите обобщенный вариант этой задачи: имеется таблица из n столбцов. Первые n-1 столбцов - признаки (комбинации этих признаков в таблице уникальные). Последний столбец - значение. Вам необходимо по набору n-1 признаков найти соответствующую строчку в таблице и вернуть значение из правого столбца. \n",
    "\n",
    "#Одно из применений задачи - объединение двух таблиц по n столбцов, одна из которых помещается в оперативной памяти. Например, 7 столбцов по 1 и 10 миллионов строк."
   ]
  },
  {
   "cell_type": "code",
   "execution_count": null,
   "metadata": {},
   "outputs": [],
   "source": [
    "# Код Бонусный вариант (делать его не обязательно)\n",
    "\n",
    "Not Done"
   ]
  }
 ],
 "metadata": {
  "kernelspec": {
   "display_name": "Python 3",
   "language": "python",
   "name": "python3"
  },
  "language_info": {
   "codemirror_mode": {
    "name": "ipython",
    "version": 3
   },
   "file_extension": ".py",
   "mimetype": "text/x-python",
   "name": "python",
   "nbconvert_exporter": "python",
   "pygments_lexer": "ipython3",
   "version": "3.7.3"
  }
 },
 "nbformat": 4,
 "nbformat_minor": 2
}
